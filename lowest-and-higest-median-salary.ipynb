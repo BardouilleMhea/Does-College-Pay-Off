{
 "cells": [
  {
   "cell_type": "code",
   "execution_count": 12,
   "id": "3cb090d7-c87b-46d0-8ab2-421187376740",
   "metadata": {},
   "outputs": [],
   "source": [
    "#importing libraries\n",
    "import pandas as pd\n",
    "import matplotlib.pyplot as plt \n",
    "import numpy as np\n",
    "import seaborn as sns \n",
    "\n",
    "#Read the dataset into a DataFrame \n",
    "recent_grads = pd.read_csv('recent-grads.csv')"
   ]
  },
  {
   "cell_type": "code",
   "execution_count": 27,
   "id": "48bbe8e2-6093-4c17-8f4c-77781ce9ad9a",
   "metadata": {},
   "outputs": [
    {
     "name": "stdout",
     "output_type": "stream",
     "text": [
      "\n",
      "Top 5 majors with highest average salary:\n",
      "PETROLEUM ENGINEERING 110000\n",
      "MINING AND MINERAL ENGINEERING 75000\n",
      "METALLURGICAL ENGINEERING 73000\n",
      "NAVAL ARCHITECTURE AND MARINE ENGINEERING 70000\n",
      "CHEMICAL ENGINEERING 65000\n",
      "\n",
      "Top 5 majors with lowest average salary:\n",
      "LIBRARY SCIENCE 22000\n",
      "COUNSELING PSYCHOLOGY 23400\n",
      "EDUCATIONAL PSYCHOLOGY 25000\n",
      "CLINICAL PSYCHOLOGY 25000\n",
      "ZOOLOGY 26000\n"
     ]
    }
   ],
   "source": [
    "#What college majors have the highest average salary? \n",
    "\n",
    "# sort the dataframe by median in descending order and select the top 5 rows\n",
    "top_5_median = recent_grads.sort_values(by='Median', ascending=False).head(5)\n",
    "\n",
    "# print the major and median for the top 5 rows\n",
    "print(\"\\nTop 5 majors with highest average salary:\")\n",
    "for index, row in top_5_median.iterrows():\n",
    "    print(row['Major'], row['Median'])\n",
    "\n",
    "#What college majors have the lowest average salary? \n",
    "\n",
    "# sort the dataframe by median in ascending order and select the top 5 rows\n",
    "bottom_5_median = recent_grads.sort_values(by='Median', ascending=True).head(5)\n",
    "\n",
    "\n",
    "# print the major and median for the top 5 rows\n",
    "print(\"\\nTop 5 majors with lowest average salary:\")\n",
    "for index, row in bottom_5_median.iterrows():\n",
    "    print(row['Major'], row['Median'])\n"
   ]
  },
  {
   "cell_type": "code",
   "execution_count": 44,
   "id": "256a62fe-e98c-4e1f-87cd-434930b86c4e",
   "metadata": {},
   "outputs": [
    {
     "data": {
      "image/png": "[encoded data removed]",
      "text/plain": [
       "<Figure size 432x432 with 1 Axes>"
      ]
     },
     "metadata": {
      "needs_background": "light"
     },
     "output_type": "display_data"
    }
   ],
   "source": [
    "# Create a bar chart comparing the lowest and highest median salary\n",
    "fig, ax = plt.subplots()\n",
    "\n",
    "# Set the x-axis labels\n",
    "labels = [\"Lowest Median Salary\", \"Highest Median Salary\"]\n",
    "\n",
    "# Set the y-axis values\n",
    "values = [bottom_5_median['Median'].values.mean(), top_5_median['Median'].values.mean()]\n",
    "\n",
    "# Create the bar chart\n",
    "ax.bar(labels, values)\n",
    "\n",
    "# Set the title and axis labels\n",
    "ax.set_title(\"Comparison of Lowest and Highest Median Salary\")\n",
    "ax.set_xlabel(\"Median Salary\")\n",
    "ax.set_ylabel(\"Salary in USD\")\n",
    "\n",
    "# Display the chart\n",
    "plt.rcParams['figure.figsize'] = [1, 1]\n",
    "\n",
    "plt.show()"
   ]
  },
  {
   "cell_type": "code",
   "execution_count": null,
   "id": "8a49f1ce-d94f-4f1f-af01-a6b9b7bda3a9",
   "metadata": {},
   "outputs": [],
   "source": []
  }
 ],
 "metadata": {
  "kernelspec": {
   "display_name": "anaconda-2022.05-py39",
   "language": "python",
   "name": "conda-env-anaconda-2022.05-py39-py"
  },
  "language_info": {
   "codemirror_mode": {
    "name": "ipython",
    "version": 3
   },
   "file_extension": ".py",
   "mimetype": "text/x-python",
   "name": "python",
   "nbconvert_exporter": "python",
   "pygments_lexer": "ipython3",
   "version": "3.9.12"
  }
 },
 "nbformat": 4,
 "nbformat_minor": 5
}
